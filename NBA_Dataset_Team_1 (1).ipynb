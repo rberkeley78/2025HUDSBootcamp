{
  "nbformat": 4,
  "nbformat_minor": 0,
  "metadata": {
    "colab": {
      "provenance": []
    },
    "kernelspec": {
      "name": "python3",
      "display_name": "Python 3"
    },
    "language_info": {
      "name": "python"
    }
  },
  "cells": [
    {
      "cell_type": "code",
      "execution_count": null,
      "metadata": {
        "id": "ACst0mdqbFw-"
      },
      "outputs": [],
      "source": []
    },
    {
      "cell_type": "markdown",
      "source": [
        "**Research Question**"
      ],
      "metadata": {
        "id": "drJePA1UbQnU"
      }
    },
    {
      "cell_type": "markdown",
      "source": [
        "What is the relationship between minutes played and points scored?\n",
        "\n",
        "Does more playing time during an NBA basketball game consistently lead to higher point totals?"
      ],
      "metadata": {
        "id": "yMYJIyDfbXoP"
      }
    },
    {
      "cell_type": "markdown",
      "source": [
        "**Problem Statement**"
      ],
      "metadata": {
        "id": "1E0qKJKVb8NU"
      }
    },
    {
      "cell_type": "markdown",
      "source": [
        "In the National Basketball Association games, it is often viewed that a player who has more playing time consistentenly leads to higher point totals.  However, there may be factors that may reject the hypothesis that more playing time leads to higher point totals. These include and not limited to the players role on the team, the defensive matchups and the efficiency or how well the player plays.  This research will seek to examine the hypothesis that NBA players who receive more playing time will consistently score more points than those who play fewer minutes."
      ],
      "metadata": {
        "id": "6PWyE2SNcg-T"
      }
    },
    {
      "cell_type": "markdown",
      "source": [
        "**Data Definition**"
      ],
      "metadata": {
        "id": "QN3_n0fukDx_"
      }
    },
    {
      "cell_type": "markdown",
      "source": [
        "**NBA-Data-2010-2024 **\n",
        "\n",
        "Last Updated: April 29, 2024\n",
        "\n",
        "https://github.com/NocturneBear/NBA-Data-2010-2024/tree/main\n",
        "\n",
        "This dataset consists of CSV files that provide comprehensive NBA data spanning from 2010 to 2024, offering valuable insights into player statistics, team performances, game outcomes, and more."
      ],
      "metadata": {
        "id": "WDfeAb_bkQti"
      }
    },
    {
      "cell_type": "markdown",
      "source": [
        "**Import Libraries**"
      ],
      "metadata": {
        "id": "3hs-NUz_mbds"
      }
    },
    {
      "cell_type": "code",
      "source": [
        "# Import the libraries\n",
        "import numpy as np                  # Scientific Computing\n",
        "import pandas as pd                 # Data Analysis\n",
        "import matplotlib.pyplot as plt     # Plotting\n",
        "import seaborn as sns               # Statistical Data Visualization\n",
        "\n",
        "# Check that Pandas returns all the rows and columns for the dataframe\n",
        "pd.set_option('display.max_rows', None)\n",
        "pd.set_option('display.max_columns', None)\n",
        "\n",
        "# Pandas display full numbers instead of scientific notation\n",
        "# pd.options.display.float_format = '{:.0f}'.format\n",
        "\n",
        "# Library to suppress warnings\n",
        "import warnings\n",
        "warnings.filterwarnings('ignore')"
      ],
      "metadata": {
        "id": "1L0TiPoxttT4"
      },
      "execution_count": null,
      "outputs": []
    },
    {
      "cell_type": "markdown",
      "source": [
        "**Read the Dataset**"
      ],
      "metadata": {
        "id": "HO8qjqMguJJq"
      }
    },
    {
      "cell_type": "code",
      "source": [
        " #Read the dataset\n",
        "path = pd.read_csv('/replace this text with the path to the file/filename.csv')\n",
        "\n",
        "# Create the Dataframe\n",
        "nbastats = pd.DataFrame(path)"
      ],
      "metadata": {
        "id": "36c-zzhFufC7"
      },
      "execution_count": null,
      "outputs": []
    },
    {
      "cell_type": "code",
      "source": [
        "# Display the first seven rows of the dataframe\n",
        "nbastats.head(7)"
      ],
      "metadata": {
        "id": "evruzNX8u4KM"
      },
      "execution_count": null,
      "outputs": []
    },
    {
      "cell_type": "code",
      "source": [
        "# Display the last seven rows of the dataframe\n",
        "nbastats.tail(7)"
      ],
      "metadata": {
        "id": "1xkVJU9mvL2M"
      },
      "execution_count": null,
      "outputs": []
    },
    {
      "cell_type": "code",
      "source": [
        "# display the dimensions of the data\n",
        "nbastats.shape"
      ],
      "metadata": {
        "id": "cBz0SzhQvjpp"
      },
      "execution_count": null,
      "outputs": []
    },
    {
      "cell_type": "code",
      "source": [
        "# the basic information about the dataset\n",
        "nbastats.info()\n"
      ],
      "metadata": {
        "id": "Ax_0kh1wwAha"
      },
      "execution_count": null,
      "outputs": []
    },
    {
      "cell_type": "markdown",
      "source": [
        "Determine the number of null values and explain your options for treating them. Then, treat your data for null values. This could involve sourcing the data from an alternative location and mapping it to the missing values, imputing the null values with the mean or median, or dropping the values from your dataframe if they have no impact on your analysis. Be sure to explain which method you selected, the benefits and possible detriments to your analysis, and why that method was the best for your data.\n",
        "\n",
        "Generate at least one new feature for your data from the existing data in your dataframe. Use existing data to add a new dimension to your data, either by computing a new value variable, parsing out a date or other feature, or mapping a new feature to the data based on a location.\n",
        "Make sure all code cells are executed. This is indicated by a number in the brackets next to the cell. Cells without a number will be assumed written but not executed and will not receive credit."
      ],
      "metadata": {
        "id": "j_uVDOW1wNOW"
      }
    },
    {
      "cell_type": "code",
      "source": [
        "# Determine the number of missing values\n",
        "nbastats.isnull().sum()"
      ],
      "metadata": {
        "id": "0VmlKJxP8fh0"
      },
      "execution_count": null,
      "outputs": []
    },
    {
      "cell_type": "code",
      "source": [
        "# Let's create a function to determine the percentage of missing values\n",
        "# Typically less than five percent missing values may not affect the results\n",
        "# More than 5% can be dropped, replaced with existing data, or imputed using mean or median.\n",
        " def missing(DataFrame):\n",
        "    print ('Percentage of missing values in the dataset:\\n',\n",
        "           round((DataFrame.isnull().sum() * 100/ len(DataFrame)),2).sort_values(ascending=False))\n",
        "\n",
        "# Call the function and execute\n",
        " missing(nbastats)"
      ],
      "metadata": {
        "id": "qr__WWRa8pSX"
      },
      "execution_count": null,
      "outputs": []
    },
    {
      "cell_type": "code",
      "source": [],
      "metadata": {
        "id": "L7Cz5XsY9i7M"
      },
      "execution_count": null,
      "outputs": []
    }
  ]
}